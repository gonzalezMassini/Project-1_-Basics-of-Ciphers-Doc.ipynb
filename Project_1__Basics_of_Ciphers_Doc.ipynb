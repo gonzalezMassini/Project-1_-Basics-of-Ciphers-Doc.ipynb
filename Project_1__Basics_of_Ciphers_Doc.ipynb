{
  "nbformat": 4,
  "nbformat_minor": 0,
  "metadata": {
    "colab": {
      "name": "Project 1_ Basics of Ciphers Doc.ipynb",
      "provenance": [],
      "collapsed_sections": [],
      "mount_file_id": "16HxowRBmbjNG_T_XJupQPRQBxaumUbmB",
      "authorship_tag": "ABX9TyMr1bONhxWrd4ajqD/koWlD",
      "include_colab_link": true
    },
    "kernelspec": {
      "name": "python3",
      "display_name": "Python 3"
    },
    "language_info": {
      "name": "python"
    }
  },
  "cells": [
    {
      "cell_type": "markdown",
      "metadata": {
        "id": "view-in-github",
        "colab_type": "text"
      },
      "source": [
        "<a href=\"https://colab.research.google.com/github/gonzalezMassini/Project-1_-Basics-of-Ciphers-Doc.ipynb/blob/main/Project_1__Basics_of_Ciphers_Doc.ipynb\" target=\"_parent\"><img src=\"https://colab.research.google.com/assets/colab-badge.svg\" alt=\"Open In Colab\"/></a>"
      ]
    },
    {
      "cell_type": "markdown",
      "metadata": {
        "id": "ZWvWIFLphgbL"
      },
      "source": [
        "# Project 1"
      ]
    },
    {
      "cell_type": "code",
      "metadata": {
        "id": "2OEB8w2-6gpo"
      },
      "source": [
        "import matplotlib.pyplot as plt"
      ],
      "execution_count": null,
      "outputs": []
    },
    {
      "cell_type": "code",
      "metadata": {
        "id": "c4rFJSLy1tJq",
        "colab": {
          "base_uri": "https://localhost:8080/"
        },
        "outputId": "159897a8-0fd7-448b-bc5b-22ac1275472a"
      },
      "source": [
        "!pip install docx2txt\n",
        "import docx2txt\n",
        "\n",
        "my_text = docx2txt.process(\"/content/drive/MyDrive/Fall 2021/ICOM5018/project_F21_Ch2-1.docx\")"
      ],
      "execution_count": null,
      "outputs": [
        {
          "output_type": "stream",
          "name": "stdout",
          "text": [
            "Collecting docx2txt\n",
            "  Downloading docx2txt-0.8.tar.gz (2.8 kB)\n",
            "Building wheels for collected packages: docx2txt\n",
            "  Building wheel for docx2txt (setup.py) ... \u001b[?25l\u001b[?25hdone\n",
            "  Created wheel for docx2txt: filename=docx2txt-0.8-py3-none-any.whl size=3980 sha256=a28f3b63fa10df27a083c4bbb13083ea5ed01bf9e1735977654843ef89bbcf2a\n",
            "  Stored in directory: /root/.cache/pip/wheels/b7/20/b2/473e3aea9a0c0d3e7b2f7bd81d06d0794fec12752733d1f3a8\n",
            "Successfully built docx2txt\n",
            "Installing collected packages: docx2txt\n",
            "Successfully installed docx2txt-0.8\n"
          ]
        }
      ]
    },
    {
      "cell_type": "markdown",
      "metadata": {
        "id": "2zWn4YcZNLIF"
      },
      "source": [
        "#Section 1"
      ]
    },
    {
      "cell_type": "code",
      "metadata": {
        "id": "d2ToKOUCAE0m"
      },
      "source": [
        "def processingProcedure(string):\n",
        "  alphabet = list('ABCDEFGHIJKLMNOPQRSTUVWXYZ ')\n",
        "  result = ''\n",
        "  for i in string:\n",
        "   if i.upper() in alphabet: \n",
        "    result += i.upper()\n",
        " \n",
        "  return result"
      ],
      "execution_count": null,
      "outputs": []
    },
    {
      "cell_type": "code",
      "metadata": {
        "colab": {
          "base_uri": "https://localhost:8080/",
          "height": 154
        },
        "id": "mHs04gFQAGtO",
        "outputId": "1fdbc836-e4ae-4fbd-9359-d353343885f5"
      },
      "source": [
        "sample_text = processingProcedure(my_text)\n",
        "processingProcedure(my_text)"
      ],
      "execution_count": null,
      "outputs": [
        {
          "output_type": "execute_result",
          "data": {
            "application/vnd.google.colaboratory.intrinsic+json": {
              "type": "string"
            },
            "text/plain": [
              "'CIIC  ICOMNETWORK SECURITY AND CRYPTOGRAPHYPROJECT  BASICS OF CIPHERSOVERVIEW IN THIS PROJECT YOU WILL NEED TO DESIGN AND IMPLEMENT SOME BASIC FUNCTIONS INCLUDING TEXT PROCESSING CAESAR CIPHER ENCRYPTION AND DECRYPTION AND FREQUENCY OF A SINGLE LETTER THE PROGRAMMING LANGUAGE IS PYTHONDOCUMENT REQUIREMENTSTO WORK ON THE PROJECT YOU WILL NEED TO PREPARE THREE DOCUMENTS FOLLOWING THE GUIDELINES BELOW A DESIGN DOCUMENTCOVER PAGEIT SHALL INCLUDE THE TITLE OF THE DOCUMENT YOUR NAME STUDENT ID DEPARTMENT AND UNIVERSITY INFORMATION ETCTABLE OF CONTENTSECTION  A TEXT PROCESSING PROCEDURETHE INPUT IS A STRINGTHE OUTPUT IS A STRING THAT CONTAINS ONLY ENGLISH LETTERS EACH OF WHICH MUST BE CAPITALIZEDSECTION  THE MAIN IDEAS AND PSEUDO CODE OF THE CAESAR ENCRYPTIONTHE INPUTS INCLUDE A PLAINTEXT AND A KEYTHE PLAINTEXT MUST BE THE OUTPUT OF THE PROCEDURE DESCRIBED IN SECTION THE RETURN IS A CIPHERTEXTSECTION  THE MAIN IDEAS AND PSEUDO CODE OF THE CAESAR DECRYPTIONTHE INPUTS INCLUDE A CIPHERTEXT AND A KEYTHE RETURN IS A PLAINTEXTSECTION  THE PSEUDO CODE TO DETERMINE THE FREQUENCY OF A SINGLE LETTER IN A STRINGTHE INPUT IS A STRING THAT CONTAINS ONLY CAPITALIZED ENGLISH LETTERSTHE OUTPUT IS AN ARRAY OF LETTER FREQUENCYREFERENCESCITE AT LEAST  REFERENCESTHE LINK TO YOUR YOUTUBE VIDEO MUST BE INCLUDED HEREA PYTHON PROGRAM SAVED IN A JUPYTER NOTEBOOKDOWNLOAD AND INSTALL THE LATEST VERSION OF PYTHONINSTALL JUPYTER NOTEBOOK FOR PYTHONALL IMPLEMENTATION SHALL BE INCLUDED IN ONE NOTEBOOKTHE FOLLOWING FUNCTIONS SHALL BE IMPLEMENTED BASED ON THE PSEUDO CODES IN THE DESIGN DOCUMENTTHE TEXT PROCESSING FUNCTIONTHE CAESAR ENCRYPTION FUNCTIONTHE CAESAR DECRYPTION FUNCTIONTHE LETTER FREQUENCY FUNCTIONSOME TESTING FUNCTIONSTO VERIFY YOUR ENCRYPTION AND DECRYPTION FUNCTIONS YOU MUST SHOW THAT THE PLAINTEXT CAN BE ACCURATELY RECOVERED AFTER YOU USED THE SAME KEY TO ENCRYPT AND DECRYPTTO SHOW THE RESULT OF YOUR LETTER FREQUENCY FUNCTION YOU SHALL USE ALL THE TEXT IN THIS WORD DOCUMENT AS THE INPUT OF THE TEXT PROCESSING PROCEDURE THEN USE THE OUTPUT OF THE TEXT PROCESSING PROCEDURE AS THE INPUT OF THE FREQUENCY DETECTION FUNCTION FINALLY YOU SHALL PLOT A FIGURE FOR FREQUENCY SIMILAR TO FIGURE  IN THE TEXTBOOK IN PYTHONA YOUTUBE VIDEO TO WALK THROUGH YOUR CODEDOWNLOAD AND INSTALL THE LATEST VERSION OF OBS STUDIOUSE OBS STUDIO TO RECORD THE SCREEN ALONG WITH YOUR VOICE FOR EXPLANATIONIN THE VIDEO YOU SHALL GO THROUGH STEP E TO VERIFY YOUR ENCRYPTION AND DECRYPTION FUNCTIONIN THE VIDEO YOU SHALL GO THROUGH STEP F AND SHOW THE FIGURE OF FREQUENCY UPLOAD THE VIDEO TO YOUTUBE SET THE VIDEO AS PRIVATE THEN SHARE IT TO ME KEJIELUUPREDUSUBMISSIONSUBMIT A SINGLE ZIP FILE THAT INCLUDESTHE DESIGN DOCUMENT THE JUPYTER NOTEBOOKEVALUATIONRUBRICS ARE USED IN THE EVALUATIONYOU MUST CAREFULLY REVIEW ALL RUBRICS BEFORE PREPARING FOR THE DOCUMENTS'"
            ]
          },
          "metadata": {},
          "execution_count": 4
        }
      ]
    },
    {
      "cell_type": "markdown",
      "metadata": {
        "id": "8Sx7W3nkNTVQ"
      },
      "source": [
        "#Section 2"
      ]
    },
    {
      "cell_type": "code",
      "metadata": {
        "id": "9T2mfMT2NXFi"
      },
      "source": [
        "def caesarEncryption(string, key):\n",
        " alphabet = list('ABCDEFGHIJKLMNOPQRSTUVWXYZ')\n",
        " result = ''\n",
        " for i in string:\n",
        "  if i == ' ':\n",
        "   result = result + i\n",
        "  else:\n",
        "   newIndexKey = alphabet.index(i)+key\n",
        "   if(newIndexKey>25):\n",
        "    result = result + alphabet[newIndexKey-26]\n",
        "   else:\n",
        "    result = result + alphabet[newIndexKey]\n",
        "\n",
        " return result"
      ],
      "execution_count": null,
      "outputs": []
    },
    {
      "cell_type": "code",
      "metadata": {
        "colab": {
          "base_uri": "https://localhost:8080/",
          "height": 375
        },
        "id": "9YVpoEueN36e",
        "outputId": "15746f76-3884-44ad-ae95-99388d85bd55"
      },
      "source": [
        "encryptedMsg = caesarEncryption(sample_text,6)\n",
        "caesarEncryption(sample_text,6)"
      ],
      "execution_count": null,
      "outputs": [
        {
          "output_type": "execute_result",
          "data": {
            "application/vnd.google.colaboratory.intrinsic+json": {
              "type": "string"
            },
            "text/plain": [
              "'IOOI  OIUSTKZCUXQ YKIAXOZE GTJ IXEVZUMXGVNEVXUPKIZ  HGYOIY UL IOVNKXYUBKXBOKC OT ZNOY VXUPKIZ EUA CORR TKKJ ZU JKYOMT GTJ OSVRKSKTZ YUSK HGYOI LATIZOUTY OTIRAJOTM ZKDZ VXUIKYYOTM IGKYGX IOVNKX KTIXEVZOUT GTJ JKIXEVZOUT GTJ LXKWAKTIE UL G YOTMRK RKZZKX ZNK VXUMXGSSOTM RGTMAGMK OY VEZNUTJUIASKTZ XKWAOXKSKTZYZU CUXQ UT ZNK VXUPKIZ EUA CORR TKKJ ZU VXKVGXK ZNXKK JUIASKTZY LURRUCOTM ZNK MAOJKROTKY HKRUC G JKYOMT JUIASKTZIUBKX VGMKOZ YNGRR OTIRAJK ZNK ZOZRK UL ZNK JUIASKTZ EUAX TGSK YZAJKTZ OJ JKVGXZSKTZ GTJ ATOBKXYOZE OTLUXSGZOUT KZIZGHRK UL IUTZKTZYKIZOUT  G ZKDZ VXUIKYYOTM VXUIKJAXKZNK OTVAZ OY G YZXOTMZNK UAZVAZ OY G YZXOTM ZNGZ IUTZGOTY UTRE KTMROYN RKZZKXY KGIN UL CNOIN SAYZ HK IGVOZGROFKJYKIZOUT  ZNK SGOT OJKGY GTJ VYKAJU IUJK UL ZNK IGKYGX KTIXEVZOUTZNK OTVAZY OTIRAJK G VRGOTZKDZ GTJ G QKEZNK VRGOTZKDZ SAYZ HK ZNK UAZVAZ UL ZNK VXUIKJAXK JKYIXOHKJ OT YKIZOUT ZNK XKZAXT OY G IOVNKXZKDZYKIZOUT  ZNK SGOT OJKGY GTJ VYKAJU IUJK UL ZNK IGKYGX JKIXEVZOUTZNK OTVAZY OTIRAJK G IOVNKXZKDZ GTJ G QKEZNK XKZAXT OY G VRGOTZKDZYKIZOUT  ZNK VYKAJU IUJK ZU JKZKXSOTK ZNK LXKWAKTIE UL G YOTMRK RKZZKX OT G YZXOTMZNK OTVAZ OY G YZXOTM ZNGZ IUTZGOTY UTRE IGVOZGROFKJ KTMROYN RKZZKXYZNK UAZVAZ OY GT GXXGE UL RKZZKX LXKWAKTIEXKLKXKTIKYIOZK GZ RKGYZ  XKLKXKTIKYZNK ROTQ ZU EUAX EUAZAHK BOJKU SAYZ HK OTIRAJKJ NKXKG VEZNUT VXUMXGS YGBKJ OT G PAVEZKX TUZKHUUQJUCTRUGJ GTJ OTYZGRR ZNK RGZKYZ BKXYOUT UL VEZNUTOTYZGRR PAVEZKX TUZKHUUQ LUX VEZNUTGRR OSVRKSKTZGZOUT YNGRR HK OTIRAJKJ OT UTK TUZKHUUQZNK LURRUCOTM LATIZOUTY YNGRR HK OSVRKSKTZKJ HGYKJ UT ZNK VYKAJU IUJKY OT ZNK JKYOMT JUIASKTZZNK ZKDZ VXUIKYYOTM LATIZOUTZNK IGKYGX KTIXEVZOUT LATIZOUTZNK IGKYGX JKIXEVZOUT LATIZOUTZNK RKZZKX LXKWAKTIE LATIZOUTYUSK ZKYZOTM LATIZOUTYZU BKXOLE EUAX KTIXEVZOUT GTJ JKIXEVZOUT LATIZOUTY EUA SAYZ YNUC ZNGZ ZNK VRGOTZKDZ IGT HK GIIAXGZKRE XKIUBKXKJ GLZKX EUA AYKJ ZNK YGSK QKE ZU KTIXEVZ GTJ JKIXEVZZU YNUC ZNK XKYARZ UL EUAX RKZZKX LXKWAKTIE LATIZOUT EUA YNGRR AYK GRR ZNK ZKDZ OT ZNOY CUXJ JUIASKTZ GY ZNK OTVAZ UL ZNK ZKDZ VXUIKYYOTM VXUIKJAXK ZNKT AYK ZNK UAZVAZ UL ZNK ZKDZ VXUIKYYOTM VXUIKJAXK GY ZNK OTVAZ UL ZNK LXKWAKTIE JKZKIZOUT LATIZOUT LOTGRRE EUA YNGRR VRUZ G LOMAXK LUX LXKWAKTIE YOSORGX ZU LOMAXK  OT ZNK ZKDZHUUQ OT VEZNUTG EUAZAHK BOJKU ZU CGRQ ZNXUAMN EUAX IUJKJUCTRUGJ GTJ OTYZGRR ZNK RGZKYZ BKXYOUT UL UHY YZAJOUAYK UHY YZAJOU ZU XKIUXJ ZNK YIXKKT GRUTM COZN EUAX BUOIK LUX KDVRGTGZOUTOT ZNK BOJKU EUA YNGRR MU ZNXUAMN YZKV K ZU BKXOLE EUAX KTIXEVZOUT GTJ JKIXEVZOUT LATIZOUTOT ZNK BOJKU EUA YNGRR MU ZNXUAMN YZKV L GTJ YNUC ZNK LOMAXK UL LXKWAKTIE AVRUGJ ZNK BOJKU ZU EUAZAHK YKZ ZNK BOJKU GY VXOBGZK ZNKT YNGXK OZ ZU SK QKPOKRAAVXKJAYAHSOYYOUTYAHSOZ G YOTMRK FOV LORK ZNGZ OTIRAJKYZNK JKYOMT JUIASKTZ ZNK PAVEZKX TUZKHUUQKBGRAGZOUTXAHXOIY GXK AYKJ OT ZNK KBGRAGZOUTEUA SAYZ IGXKLARRE XKBOKC GRR XAHXOIY HKLUXK VXKVGXOTM LUX ZNK JUIASKTZY'"
            ]
          },
          "metadata": {},
          "execution_count": 16
        }
      ]
    },
    {
      "cell_type": "markdown",
      "metadata": {
        "id": "vPvfTKm1RH00"
      },
      "source": [
        "#Section 3"
      ]
    },
    {
      "cell_type": "code",
      "metadata": {
        "id": "fKUHlCLERJWN"
      },
      "source": [
        "def caesarDecryption(string, key):\n",
        " alphabet = list('ABCDEFGHIJKLMNOPQRSTUVWXYZ')\n",
        " result = ''\n",
        " for i in string:\n",
        "  if i == ' ':\n",
        "   result = result + i\n",
        "  else:\n",
        "   newIndexKey = alphabet.index(i)-key\n",
        "   if(newIndexKey>25):\n",
        "    result = result + alphabet[newIndexKey-26]\n",
        "   else:\n",
        "    result = result + alphabet[newIndexKey]\n",
        "\n",
        " return result"
      ],
      "execution_count": null,
      "outputs": []
    },
    {
      "cell_type": "code",
      "metadata": {
        "colab": {
          "base_uri": "https://localhost:8080/",
          "height": 375
        },
        "id": "DtqOtIfgRKt5",
        "outputId": "57958a8d-e7b3-4b67-c0e4-97dd94fe259e"
      },
      "source": [
        "caesarDecryption(encryptedMsg,6)"
      ],
      "execution_count": null,
      "outputs": [
        {
          "output_type": "execute_result",
          "data": {
            "application/vnd.google.colaboratory.intrinsic+json": {
              "type": "string"
            },
            "text/plain": [
              "'CIIC  ICOMNETWORK SECURITY AND CRYPTOGRAPHYPROJECT  BASICS OF CIPHERSOVERVIEW IN THIS PROJECT YOU WILL NEED TO DESIGN AND IMPLEMENT SOME BASIC FUNCTIONS INCLUDING TEXT PROCESSING CAESAR CIPHER ENCRYPTION AND DECRYPTION AND FREQUENCY OF A SINGLE LETTER THE PROGRAMMING LANGUAGE IS PYTHONDOCUMENT REQUIREMENTSTO WORK ON THE PROJECT YOU WILL NEED TO PREPARE THREE DOCUMENTS FOLLOWING THE GUIDELINES BELOW A DESIGN DOCUMENTCOVER PAGEIT SHALL INCLUDE THE TITLE OF THE DOCUMENT YOUR NAME STUDENT ID DEPARTMENT AND UNIVERSITY INFORMATION ETCTABLE OF CONTENTSECTION  A TEXT PROCESSING PROCEDURETHE INPUT IS A STRINGTHE OUTPUT IS A STRING THAT CONTAINS ONLY ENGLISH LETTERS EACH OF WHICH MUST BE CAPITALIZEDSECTION  THE MAIN IDEAS AND PSEUDO CODE OF THE CAESAR ENCRYPTIONTHE INPUTS INCLUDE A PLAINTEXT AND A KEYTHE PLAINTEXT MUST BE THE OUTPUT OF THE PROCEDURE DESCRIBED IN SECTION THE RETURN IS A CIPHERTEXTSECTION  THE MAIN IDEAS AND PSEUDO CODE OF THE CAESAR DECRYPTIONTHE INPUTS INCLUDE A CIPHERTEXT AND A KEYTHE RETURN IS A PLAINTEXTSECTION  THE PSEUDO CODE TO DETERMINE THE FREQUENCY OF A SINGLE LETTER IN A STRINGTHE INPUT IS A STRING THAT CONTAINS ONLY CAPITALIZED ENGLISH LETTERSTHE OUTPUT IS AN ARRAY OF LETTER FREQUENCYREFERENCESCITE AT LEAST  REFERENCESTHE LINK TO YOUR YOUTUBE VIDEO MUST BE INCLUDED HEREA PYTHON PROGRAM SAVED IN A JUPYTER NOTEBOOKDOWNLOAD AND INSTALL THE LATEST VERSION OF PYTHONINSTALL JUPYTER NOTEBOOK FOR PYTHONALL IMPLEMENTATION SHALL BE INCLUDED IN ONE NOTEBOOKTHE FOLLOWING FUNCTIONS SHALL BE IMPLEMENTED BASED ON THE PSEUDO CODES IN THE DESIGN DOCUMENTTHE TEXT PROCESSING FUNCTIONTHE CAESAR ENCRYPTION FUNCTIONTHE CAESAR DECRYPTION FUNCTIONTHE LETTER FREQUENCY FUNCTIONSOME TESTING FUNCTIONSTO VERIFY YOUR ENCRYPTION AND DECRYPTION FUNCTIONS YOU MUST SHOW THAT THE PLAINTEXT CAN BE ACCURATELY RECOVERED AFTER YOU USED THE SAME KEY TO ENCRYPT AND DECRYPTTO SHOW THE RESULT OF YOUR LETTER FREQUENCY FUNCTION YOU SHALL USE ALL THE TEXT IN THIS WORD DOCUMENT AS THE INPUT OF THE TEXT PROCESSING PROCEDURE THEN USE THE OUTPUT OF THE TEXT PROCESSING PROCEDURE AS THE INPUT OF THE FREQUENCY DETECTION FUNCTION FINALLY YOU SHALL PLOT A FIGURE FOR FREQUENCY SIMILAR TO FIGURE  IN THE TEXTBOOK IN PYTHONA YOUTUBE VIDEO TO WALK THROUGH YOUR CODEDOWNLOAD AND INSTALL THE LATEST VERSION OF OBS STUDIOUSE OBS STUDIO TO RECORD THE SCREEN ALONG WITH YOUR VOICE FOR EXPLANATIONIN THE VIDEO YOU SHALL GO THROUGH STEP E TO VERIFY YOUR ENCRYPTION AND DECRYPTION FUNCTIONIN THE VIDEO YOU SHALL GO THROUGH STEP F AND SHOW THE FIGURE OF FREQUENCY UPLOAD THE VIDEO TO YOUTUBE SET THE VIDEO AS PRIVATE THEN SHARE IT TO ME KEJIELUUPREDUSUBMISSIONSUBMIT A SINGLE ZIP FILE THAT INCLUDESTHE DESIGN DOCUMENT THE JUPYTER NOTEBOOKEVALUATIONRUBRICS ARE USED IN THE EVALUATIONYOU MUST CAREFULLY REVIEW ALL RUBRICS BEFORE PREPARING FOR THE DOCUMENTS'"
            ]
          },
          "metadata": {},
          "execution_count": 18
        }
      ]
    },
    {
      "cell_type": "markdown",
      "metadata": {
        "id": "oaXM9NqwRtUI"
      },
      "source": [
        "#Section 4"
      ]
    },
    {
      "cell_type": "code",
      "metadata": {
        "id": "7cai_2rM4WO6"
      },
      "source": [
        "def letterFrequency(string):\n",
        " result = list()\n",
        "  \n",
        " for i in string:\n",
        "    count = string.count(i)\n",
        "    if not (i,count) in result:\n",
        "     result.append((i,count))\n",
        "\n",
        " return result\n",
        "\n"
      ],
      "execution_count": null,
      "outputs": []
    },
    {
      "cell_type": "code",
      "metadata": {
        "colab": {
          "base_uri": "https://localhost:8080/"
        },
        "id": "g0gOkFMN6Vmp",
        "outputId": "e0ce4b7e-122f-4636-f5f9-16a4d71ca39f"
      },
      "source": [
        "frqList = letterFrequency(sample_text)\n",
        "letterFrequency(sample_text)"
      ],
      "execution_count": null,
      "outputs": [
        {
          "output_type": "execute_result",
          "data": {
            "text/plain": [
              "[('C', 108),\n",
              " ('I', 168),\n",
              " (' ', 441),\n",
              " ('O', 195),\n",
              " ('M', 37),\n",
              " ('N', 191),\n",
              " ('E', 312),\n",
              " ('T', 258),\n",
              " ('W', 18),\n",
              " ('R', 135),\n",
              " ('K', 13),\n",
              " ('S', 128),\n",
              " ('U', 120),\n",
              " ('Y', 62),\n",
              " ('A', 125),\n",
              " ('D', 91),\n",
              " ('P', 77),\n",
              " ('G', 40),\n",
              " ('H', 96),\n",
              " ('J', 7),\n",
              " ('B', 27),\n",
              " ('F', 56),\n",
              " ('V', 21),\n",
              " ('L', 91),\n",
              " ('X', 14),\n",
              " ('Q', 9),\n",
              " ('Z', 3)]"
            ]
          },
          "metadata": {},
          "execution_count": 20
        }
      ]
    },
    {
      "cell_type": "markdown",
      "metadata": {
        "id": "0dn8rcJqkNDH"
      },
      "source": [
        "# Frequency Plot"
      ]
    },
    {
      "cell_type": "code",
      "metadata": {
        "colab": {
          "base_uri": "https://localhost:8080/",
          "height": 265
        },
        "id": "6OTe6CYtkLPc",
        "outputId": "43f821e5-02c3-42bf-a474-f34717c7055b"
      },
      "source": [
        "def frequencyPlot(lst):\n",
        "  list2 = [(frstElem,scndElem2) for frstElem, scndElem2 in lst]\n",
        "  plt.bar(*zip(*list2))\n",
        "  plt.show()\n",
        "\n",
        "frequencyPlot(frqList)"
      ],
      "execution_count": null,
      "outputs": [
        {
          "output_type": "display_data",
          "data": {
            "image/png": "[encoded data removed]",
            "text/plain": [
              "<Figure size 432x288 with 1 Axes>"
            ]
          },
          "metadata": {
            "needs_background": "light"
          }
        }
      ]
    }
  ]
}